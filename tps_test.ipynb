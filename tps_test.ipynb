{
 "cells": [
  {
   "cell_type": "code",
   "execution_count": 1,
   "metadata": {},
   "outputs": [],
   "source": [
    "import torch\n",
    "\n",
    "# edit the config\n",
    "device = torch.device('cuda:0')\n",
    "dataset_name = 'vox' # ['vox', 'taichi', 'ted', 'mgif']\n",
    "name = 'winter'\n",
    "source_image_path = f'./data/{name}_align.png'\n",
    "driving_video_path = './data/driving.mp4'\n",
    "output_video_path = f'./generated./{name}.mp4'\n",
    "config_path = 'config/vox-256.yaml'\n",
    "checkpoint_path = 'checkpoints/vox.pth.tar'\n",
    "predict_mode = 'relative' # ['standard', 'relative', 'avd']\n",
    "find_best_frame = False # when use the relative mode to animate a face, use 'find_best_frame=True' can get better quality result\n",
    "\n",
    "pixel = 256 # for vox, taichi and mgif, the resolution is 256*256\n",
    "# if(dataset_name == 'ted'): # for ted, the resolution is 384*384\n",
    "#     pixel = 384\n",
    "\n",
    "# if find_best_frame:\n",
    "#   !pip install face_alignment"
   ]
  },
  {
   "cell_type": "code",
   "execution_count": 2,
   "metadata": {},
   "outputs": [
    {
     "name": "stderr",
     "output_type": "stream",
     "text": [
      "<frozen importlib._bootstrap>:219: RuntimeWarning: scipy._lib.messagestream.MessageStream size changed, may indicate binary incompatibility. Expected 56 from C header, got 64 from PyObject\n"
     ]
    }
   ],
   "source": [
    "import imageio\n",
    "import numpy as np\n",
    "import matplotlib.pyplot as plt\n",
    "import matplotlib.animation as animation\n",
    "from skimage.transform import resize\n",
    "from IPython.display import HTML\n",
    "import warnings\n",
    "import os"
   ]
  },
  {
   "cell_type": "code",
   "execution_count": 3,
   "metadata": {},
   "outputs": [],
   "source": [
    "warnings.filterwarnings(\"ignore\")\n",
    "\n",
    "source_image = imageio.imread(source_image_path)\n",
    "reader = imageio.get_reader(driving_video_path)\n",
    "\n",
    "source_image = resize(source_image, (pixel, pixel))[..., :3]\n",
    "\n",
    "fps = reader.get_meta_data()['fps']\n",
    "driving_video = []\n",
    "try:\n",
    "    for im in reader:\n",
    "        driving_video.append(im)\n",
    "except RuntimeError:\n",
    "    pass\n",
    "reader.close()\n",
    "\n",
    "driving_video = [resize(frame, (pixel, pixel))[..., :3] for frame in driving_video]\n",
    "\n",
    "def display(source, driving, generated=None):\n",
    "    fig = plt.figure(figsize=(8 + 4 * (generated is not None), 6))\n",
    "\n",
    "    ims = []\n",
    "    for i in range(len(driving)):\n",
    "        cols = [source]\n",
    "        cols.append(driving[i])\n",
    "        if generated is not None:\n",
    "            cols.append(generated[i])\n",
    "        im = plt.imshow(np.concatenate(cols, axis=1), animated=True)\n",
    "        plt.axis('off')\n",
    "        ims.append([im])\n",
    "\n",
    "    ani = animation.ArtistAnimation(fig, ims, interval=50, repeat_delay=1000)\n",
    "    plt.close()\n",
    "    return ani"
   ]
  },
  {
   "cell_type": "code",
   "execution_count": 4,
   "metadata": {},
   "outputs": [
    {
     "ename": "IndentationError",
     "evalue": "unexpected indent (demo.py, line 4)",
     "output_type": "error",
     "traceback": [
      "Traceback \u001B[1;36m(most recent call last)\u001B[0m:\n",
      "  File \u001B[0;32mC:\\ProgramData\\Anaconda3\\envs\\stylegan\\lib\\site-packages\\IPython\\core\\interactiveshell.py:3398\u001B[0m in \u001B[0;35mrun_code\u001B[0m\n    exec(code_obj, self.user_global_ns, self.user_ns)\n",
      "\u001B[1;36m  Input \u001B[1;32mIn [4]\u001B[1;36m in \u001B[1;35m<cell line: 1>\u001B[1;36m\u001B[0m\n\u001B[1;33m    from demo import load_checkpoints\u001B[0m\n",
      "\u001B[1;36m  File \u001B[1;32m~\\EandI\\final-jupyter\\demo.py:4\u001B[1;36m\u001B[0m\n\u001B[1;33m    import yaml\u001B[0m\n\u001B[1;37m    ^\u001B[0m\n\u001B[1;31mIndentationError\u001B[0m\u001B[1;31m:\u001B[0m unexpected indent\n"
     ]
    }
   ],
   "source": [
    "from demo import load_checkpoints \n",
    "inpainting, kp_detector, dense_motion_network, avd_network = load_checkpoints(\n",
    "    config_path = config_path, checkpoint_path = checkpoint_path, device = device)"
   ]
  },
  {
   "cell_type": "code",
   "execution_count": null,
   "metadata": {},
   "outputs": [],
   "source": [
    "from demo import make_animation\n",
    "from skimage import img_as_ubyte\n",
    "\n",
    "if predict_mode=='relative' and find_best_frame:\n",
    "    from demo import find_best_frame as _find\n",
    "    i = _find(source_image, driving_video, device.type=='cpu')\n",
    "    print (\"Best frame: \" + str(i))\n",
    "    driving_forward = driving_video[i:]\n",
    "    driving_backward = driving_video[:(i+1)][::-1]\n",
    "    predictions_forward = make_animation(source_image, driving_forward, inpainting, kp_detector, dense_motion_network, avd_network, device = device, mode = predict_mode)\n",
    "    predictions_backward = make_animation(source_image, driving_backward, inpainting, kp_detector, dense_motion_network, avd_network, device = device, mode = predict_mode)\n",
    "    predictions = predictions_backward[::-1] + predictions_forward[1:]\n",
    "else:\n",
    "    predictions = make_animation(source_image, driving_video, inpainting, kp_detector, dense_motion_network, avd_network, device = device, mode = predict_mode)\n",
    "\n",
    "#save resulting video\n",
    "imageio.mimsave(output_video_path, [img_as_ubyte(frame) for frame in predictions], fps=fps)"
   ]
  },
  {
   "cell_type": "code",
   "execution_count": null,
   "metadata": {},
   "outputs": [],
   "source": []
  }
 ],
 "metadata": {
  "kernelspec": {
   "display_name": "Python 3.8.13 ('stylegan')",
   "language": "python",
   "name": "python3"
  },
  "language_info": {
   "codemirror_mode": {
    "name": "ipython",
    "version": 3
   },
   "file_extension": ".py",
   "mimetype": "text/x-python",
   "name": "python",
   "nbconvert_exporter": "python",
   "pygments_lexer": "ipython3",
   "version": "3.8.13"
  },
  "orig_nbformat": 4,
  "vscode": {
   "interpreter": {
    "hash": "4dd5e1b8d9d22ba32a0cac6f0a9b22453780edf995b317bf702c69464866a80b"
   }
  }
 },
 "nbformat": 4,
 "nbformat_minor": 2
}